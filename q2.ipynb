{
 "cells": [
  {
   "cell_type": "code",
   "execution_count": 87,
   "outputs": [
    {
     "name": "stdout",
     "output_type": "stream",
     "text": [
      "我去吃饭不去吃饭\n"
     ]
    }
   ],
   "source": [
    "# 创建无关标点符号集\n",
    "\n",
    "dot = [\"，\",\"。\",\"！\",\"？\",\"～\",\"‘\",\"’\",\"、\",\"：\",\"；\"] # 标点符号集\n",
    "import  re\n",
    "def remove_punctuation(text):\n",
    "    # 使用正则表达式去除标点符号\n",
    "    text_without_punctuation = re.sub(r'[^\\w\\s]', '', text)\n",
    "    return text_without_punctuation\n",
    "\n",
    "\n",
    "res = remove_punctuation(\"我去吃饭。不去吃饭\")\n",
    "\n",
    "print(res)"
   ],
   "metadata": {
    "collapsed": false,
    "ExecuteTime": {
     "end_time": "2023-10-11T16:45:02.705994Z",
     "start_time": "2023-10-11T16:45:02.700621Z"
    }
   },
   "id": "e98fff7f072cc6ec"
  },
  {
   "cell_type": "code",
   "execution_count": 88,
   "outputs": [],
   "source": [
    "# n-gram-list\n",
    "def create_ngram_list(input_list, ngram_num):\n",
    "    ngram_list = []\n",
    "    if len(input_list) <= ngram_num:\n",
    "        ngram_list.append(input_list)\n",
    "    else:\n",
    "        for tmp in zip(*[input_list[i:] for i in range(ngram_num)]):\n",
    "            tmp = \"\".join(tmp)\n",
    "            ngram_list.append(tmp)\n",
    "    return ngram_list"
   ],
   "metadata": {
    "collapsed": false,
    "ExecuteTime": {
     "end_time": "2023-10-11T16:45:02.708020Z",
     "start_time": "2023-10-11T16:45:02.705179Z"
    }
   },
   "id": "initial_id"
  },
  {
   "cell_type": "code",
   "execution_count": 89,
   "outputs": [],
   "source": [
    "# 删除停用词\n",
    "\n",
    "#停用词集合\n",
    "\n",
    "delete_list = [\"不\",\"去\"] #该停用词集合 来源于 常见中文停用词\n",
    "\n",
    "def delete_ngram_list(input_list):\n",
    "    ngram_list = []\n",
    "    flag = False \n",
    "    for dic in input_list:\n",
    "        for item in delete_list : \n",
    "            if item in dic: \n",
    "                flag = True\n",
    "                break\n",
    "        if not flag:\n",
    "            ngram_list.append(dic)\n",
    "        flag = False\n",
    "    return ngram_list\n",
    "    # 去除停用词\n",
    "    # words_without_stopwords = [word for word in input_list if word not in delete_list]\n",
    "    # # 重新组合文本\n",
    "    # text_without_stopwords = \"\".join(words_without_stopwords)\n",
    "    # return text_without_stopwords"
   ],
   "metadata": {
    "collapsed": false,
    "ExecuteTime": {
     "end_time": "2023-10-11T16:45:02.713439Z",
     "start_time": "2023-10-11T16:45:02.709561Z"
    }
   },
   "id": "9061f8d54103279f"
  },
  {
   "cell_type": "code",
   "execution_count": 90,
   "outputs": [],
   "source": [
    "# 对比的文档\n",
    "doc1 = \"我去吃饭。不去吃饭\"\n",
    "doc2 = \"我去吃饭。不去理发\""
   ],
   "metadata": {
    "collapsed": false,
    "ExecuteTime": {
     "end_time": "2023-10-11T16:45:02.734298Z",
     "start_time": "2023-10-11T16:45:02.712561Z"
    }
   },
   "id": "7c0b62120495975c"
  },
  {
   "cell_type": "code",
   "execution_count": 91,
   "outputs": [
    {
     "name": "stdout",
     "output_type": "stream",
     "text": [
      "没有删除停用词的文档：\n",
      "['我去', '去吃', '吃饭', '饭不', '不去', '去吃', '吃饭']\n",
      "['我去', '去吃', '吃饭', '饭不', '不去', '去理', '理发']\n"
     ]
    }
   ],
   "source": [
    "ngram_num = 2  #int(input(\"切分长度：\"))\n",
    "remove_doc1 = remove_punctuation(doc1)\n",
    "remove_doc2 = remove_punctuation(doc2)\n",
    "wordslist1 = create_ngram_list(remove_doc1, ngram_num) # 列表形式\n",
    "wordslist2 = create_ngram_list(remove_doc2, ngram_num) \n",
    "print(\"没有删除停用词的文档：\")\n",
    "print(wordslist1)\n",
    "print(wordslist2)"
   ],
   "metadata": {
    "collapsed": false,
    "ExecuteTime": {
     "end_time": "2023-10-11T16:45:02.741306Z",
     "start_time": "2023-10-11T16:45:02.716741Z"
    }
   },
   "id": "aba5d2a03d649bc8"
  },
  {
   "cell_type": "code",
   "execution_count": 92,
   "outputs": [
    {
     "name": "stdout",
     "output_type": "stream",
     "text": [
      "删除停用词的文档\n",
      "['吃饭', '吃饭']\n",
      "['吃饭', '理发']\n"
     ]
    }
   ],
   "source": [
    "ngram_num = 2  #int(input(\"切分长度：\"))\n",
    "remove_doc1 = remove_punctuation(doc1)\n",
    "remove_doc2 = remove_punctuation(doc2)\n",
    "wordslist1 = create_ngram_list(remove_doc1, ngram_num) # 列表形式\n",
    "wordslist2 = create_ngram_list(remove_doc2, ngram_num) \n",
    "text_without_stopwords1 = delete_ngram_list(wordslist1)\n",
    "text_without_stopwords2 = delete_ngram_list(wordslist2)\n",
    "\n",
    "print(\"删除停用词的文档\")\n",
    "\n",
    "print(text_without_stopwords1)\n",
    "print(text_without_stopwords2)"
   ],
   "metadata": {
    "collapsed": false,
    "ExecuteTime": {
     "end_time": "2023-10-11T16:45:02.741443Z",
     "start_time": "2023-10-11T16:45:02.720277Z"
    }
   },
   "id": "d0564d6f77a4006e"
  },
  {
   "cell_type": "code",
   "execution_count": 95,
   "outputs": [
    {
     "name": "stdout",
     "output_type": "stream",
     "text": [
      "集合交： {'吃饭', '我去', '去吃', '饭不', '不去'}\n",
      "集合并： {'去理', '吃饭', '我去', '去吃', '理发', '饭不', '不去'}\n"
     ]
    }
   ],
   "source": [
    "words1_set = set(wordslist1) #得到n-gram词语的集合\n",
    "words2_set = set(wordslist2) \n",
    "\n",
    "print(\"集合交：\",(words1_set & words2_set))\n",
    "print(\"集合并：\",(words1_set | words2_set))\n",
    "\n"
   ],
   "metadata": {
    "collapsed": false,
    "ExecuteTime": {
     "end_time": "2023-10-11T16:45:08.646043Z",
     "start_time": "2023-10-11T16:45:08.640638Z"
    }
   },
   "id": "13873caf66ba6a51"
  },
  {
   "cell_type": "code",
   "execution_count": 94,
   "outputs": [
    {
     "name": "stdout",
     "output_type": "stream",
     "text": [
      "0.71\n"
     ]
    }
   ],
   "source": [
    "similar12 = len(words1_set & words2_set) / len(words1_set | words2_set)\n",
    "print(\"{:.2f}\".format(similar12))"
   ],
   "metadata": {
    "collapsed": false,
    "ExecuteTime": {
     "end_time": "2023-10-11T16:45:02.741599Z",
     "start_time": "2023-10-11T16:45:02.725837Z"
    }
   },
   "id": "9c6fd666be49ddce"
  },
  {
   "cell_type": "code",
   "execution_count": 96,
   "outputs": [
    {
     "name": "stdout",
     "output_type": "stream",
     "text": [
      "集合交： {'吃饭'}\n",
      "集合并： {'吃饭', '理发'}\n",
      "0.50\n"
     ]
    }
   ],
   "source": [
    "# 删除停用词的相似度\n",
    "words1_set = set(text_without_stopwords1) #得到n-gram词语的集合\n",
    "words2_set = set(text_without_stopwords2) \n",
    "\n",
    "print(\"集合交：\",(words1_set & words2_set))\n",
    "print(\"集合并：\",(words1_set | words2_set))\n",
    "\n",
    "similar12 = len(words1_set & words2_set) / len(words1_set | words2_set)\n",
    "print(\"{:.2f}\".format(similar12))\n"
   ],
   "metadata": {
    "collapsed": false,
    "ExecuteTime": {
     "end_time": "2023-10-11T16:45:59.645345Z",
     "start_time": "2023-10-11T16:45:59.630276Z"
    }
   },
   "id": "4e0a90b0a8e868f4"
  },
  {
   "cell_type": "code",
   "execution_count": null,
   "outputs": [],
   "source": [],
   "metadata": {
    "collapsed": false
   },
   "id": "151ba692535961fc"
  }
 ],
 "metadata": {
  "kernelspec": {
   "display_name": "Python 3",
   "language": "python",
   "name": "python3"
  },
  "language_info": {
   "codemirror_mode": {
    "name": "ipython",
    "version": 2
   },
   "file_extension": ".py",
   "mimetype": "text/x-python",
   "name": "python",
   "nbconvert_exporter": "python",
   "pygments_lexer": "ipython2",
   "version": "2.7.6"
  }
 },
 "nbformat": 4,
 "nbformat_minor": 5
}
